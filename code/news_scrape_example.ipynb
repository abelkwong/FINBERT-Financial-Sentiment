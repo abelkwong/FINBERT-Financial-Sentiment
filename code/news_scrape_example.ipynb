{
 "cells": [
  {
   "cell_type": "markdown",
   "id": "5a057410",
   "metadata": {},
   "source": [
    "## 1. Import Dependencies"
   ]
  },
  {
   "cell_type": "code",
   "execution_count": 3,
   "id": "4c1d1a85",
   "metadata": {},
   "outputs": [],
   "source": [
    "# Import libraries\n",
    "import pandas as pd\n",
    "import numpy as np\n",
    "import matplotlib.pyplot as plt\n",
    "import seaborn as sns\n",
    "\n",
    "from bs4 import BeautifulSoup as BS\n",
    "import requests as req\n",
    "\n",
    "import torch\n",
    "from transformers import AutoTokenizer, AutoModelForSequenceClassification\n",
    "\n",
    "# Jupyter settings\n",
    "pd.set_option('display.max_colwidth', None)"
   ]
  },
  {
   "cell_type": "markdown",
   "id": "455b9ef4",
   "metadata": {},
   "source": [
    "## 2. Scrape + Load Data"
   ]
  },
  {
   "cell_type": "code",
   "execution_count": 4,
   "id": "523fec1d",
   "metadata": {
    "scrolled": true
   },
   "outputs": [
    {
     "data": {
      "text/html": [
       "<div>\n",
       "<style scoped>\n",
       "    .dataframe tbody tr th:only-of-type {\n",
       "        vertical-align: middle;\n",
       "    }\n",
       "\n",
       "    .dataframe tbody tr th {\n",
       "        vertical-align: top;\n",
       "    }\n",
       "\n",
       "    .dataframe thead th {\n",
       "        text-align: right;\n",
       "    }\n",
       "</style>\n",
       "<table border=\"1\" class=\"dataframe\">\n",
       "  <thead>\n",
       "    <tr style=\"text-align: right;\">\n",
       "      <th></th>\n",
       "      <th>Headline</th>\n",
       "    </tr>\n",
       "  </thead>\n",
       "  <tbody>\n",
       "    <tr>\n",
       "      <th>0</th>\n",
       "      <td>Exclusive: First Republic considers downsizing if capital raise fails</td>\n",
       "    </tr>\n",
       "    <tr>\n",
       "      <th>1</th>\n",
       "      <td>SVB Financial Group accuses FDIC of cutting it off from cash, article with video</td>\n",
       "    </tr>\n",
       "    <tr>\n",
       "      <th>2</th>\n",
       "      <td>First Republic's future to be discussed as major bank CEOs meet, sources say</td>\n",
       "    </tr>\n",
       "    <tr>\n",
       "      <th>3</th>\n",
       "      <td>Zimbabwe's new 300 MW coal-fired plant starts feeding into grid</td>\n",
       "    </tr>\n",
       "    <tr>\n",
       "      <th>4</th>\n",
       "      <td>Exclusive: EU drafts plan to allow e-fuel combustion engine cars</td>\n",
       "    </tr>\n",
       "    <tr>\n",
       "      <th>5</th>\n",
       "      <td>Putin says Chinese proposal could be basis for peace in Ukraine, article with video</td>\n",
       "    </tr>\n",
       "    <tr>\n",
       "      <th>6</th>\n",
       "      <td>Demand for transatlantic flights soars as Americans can't get enough of Europe</td>\n",
       "    </tr>\n",
       "  </tbody>\n",
       "</table>\n",
       "</div>"
      ],
      "text/plain": [
       "                                                                              Headline\n",
       "0                Exclusive: First Republic considers downsizing if capital raise fails\n",
       "1     SVB Financial Group accuses FDIC of cutting it off from cash, article with video\n",
       "2         First Republic's future to be discussed as major bank CEOs meet, sources say\n",
       "3                      Zimbabwe's new 300 MW coal-fired plant starts feeding into grid\n",
       "4                     Exclusive: EU drafts plan to allow e-fuel combustion engine cars\n",
       "5  Putin says Chinese proposal could be basis for peace in Ukraine, article with video\n",
       "6       Demand for transatlantic flights soars as Americans can't get enough of Europe"
      ]
     },
     "metadata": {},
     "output_type": "display_data"
    }
   ],
   "source": [
    "from bs4 import BeautifulSoup\n",
    "import requests\n",
    "\n",
    "url = \"https://www.reuters.com/markets/\"\n",
    "response = requests.get(url)\n",
    "\n",
    "soup = BeautifulSoup(response.text, \"html.parser\")\n",
    "\n",
    "data = []\n",
    "\n",
    "for x in soup.find_all('h3'):\n",
    "    if len(x.text) > 15:\n",
    "        headline = x.text.strip()\n",
    "        data.append(headline)\n",
    "        \n",
    "df = pd.DataFrame(data, columns=[\"Headline\"])\n",
    "\n",
    "# Remove common endings \n",
    "common_endings = [', article with image', ', article with gallery', ' - sources', ' -sources', '- report']\n",
    "for i in common_endings:\n",
    "    df['Headline'] = df['Headline'].str.replace(i, '')\n",
    "\n",
    "display(df)"
   ]
  },
  {
   "cell_type": "code",
   "execution_count": 5,
   "id": "4863d5e2",
   "metadata": {},
   "outputs": [
    {
     "name": "stdout",
     "output_type": "stream",
     "text": [
      "[[\"Demand for transatlantic flights soars as Americans can't get enough of Europe\"], [\"Zimbabwe's new 300 MW coal-fired plant starts feeding into grid\"], ['Exclusive: First Republic considers downsizing if capital raise fails'], ['Exclusive: EU drafts plan to allow e-fuel combustion engine cars'], ['SVB Financial Group accuses FDIC of cutting it off from cash, article with video'], ['Putin says Chinese proposal could be basis for peace in Ukraine, article with video'], [\"First Republic's future to be discussed as major bank CEOs meet, sources say\"]]\n"
     ]
    }
   ],
   "source": [
    "from itertools import chain\n",
    "\n",
    "# Shuffle and extract headlines into new list\n",
    "headlines_array = np.array(df)\n",
    "np.random.shuffle(headlines_array)\n",
    "headlines_list = (headlines_array[:]).tolist()\n",
    "\n",
    "print(headlines_list)"
   ]
  },
  {
   "cell_type": "markdown",
   "id": "67593d43",
   "metadata": {},
   "source": [
    "## 3. Implementation of FINBERT"
   ]
  },
  {
   "cell_type": "code",
   "execution_count": 6,
   "id": "c20aec84",
   "metadata": {},
   "outputs": [],
   "source": [
    "tokenizer = AutoTokenizer.from_pretrained(\"ProsusAI/finbert\")\n",
    "model = AutoModelForSequenceClassification.from_pretrained(\"ProsusAI/finbert\")"
   ]
  },
  {
   "cell_type": "code",
   "execution_count": 7,
   "id": "5dd8b6de",
   "metadata": {
    "scrolled": false
   },
   "outputs": [
    {
     "name": "stdout",
     "output_type": "stream",
     "text": [
      "{'input_ids': tensor([[  101,  5157,  2005, 26617,  7599,  2061, 11650,  2004,  4841,  2064,\n",
      "          1005,  1056,  2131,  2438,  1997,  2885,   102,     0,     0,     0],\n",
      "        [  101, 11399,  1005,  1055,  2047,  3998, 12464,  5317,  1011,  5045,\n",
      "          3269,  4627,  8521,  2046,  8370,   102,     0,     0,     0,     0],\n",
      "        [  101,  7262,  1024,  2034,  3072, 10592, 12482,  6026,  2065,  3007,\n",
      "          5333, 11896,   102,     0,     0,     0,     0,     0,     0,     0],\n",
      "        [  101,  7262,  1024,  7327, 28967,  2933,  2000,  3499,  1041,  1011,\n",
      "          4762, 16513,  3194,  3765,   102,     0,     0,     0,     0,     0],\n",
      "        [  101, 17917,  2497,  3361,  2177, 26960,  2015,  1042, 14808,  1997,\n",
      "          6276,  2009,  2125,  2013,  5356,  1010,  3720,  2007,  2678,   102],\n",
      "        [  101, 22072,  2758,  2822,  6378,  2071,  2022,  3978,  2005,  3521,\n",
      "          1999,  5924,  1010,  3720,  2007,  2678,   102,     0,     0,     0],\n",
      "        [  101,  2034,  3072,  1005,  1055,  2925,  2000,  2022,  6936,  2004,\n",
      "          2350,  2924,  5766,  2015,  3113,  1010,  4216,  2360,   102,     0]]), 'token_type_ids': tensor([[0, 0, 0, 0, 0, 0, 0, 0, 0, 0, 0, 0, 0, 0, 0, 0, 0, 0, 0, 0],\n",
      "        [0, 0, 0, 0, 0, 0, 0, 0, 0, 0, 0, 0, 0, 0, 0, 0, 0, 0, 0, 0],\n",
      "        [0, 0, 0, 0, 0, 0, 0, 0, 0, 0, 0, 0, 0, 0, 0, 0, 0, 0, 0, 0],\n",
      "        [0, 0, 0, 0, 0, 0, 0, 0, 0, 0, 0, 0, 0, 0, 0, 0, 0, 0, 0, 0],\n",
      "        [0, 0, 0, 0, 0, 0, 0, 0, 0, 0, 0, 0, 0, 0, 0, 0, 0, 0, 0, 0],\n",
      "        [0, 0, 0, 0, 0, 0, 0, 0, 0, 0, 0, 0, 0, 0, 0, 0, 0, 0, 0, 0],\n",
      "        [0, 0, 0, 0, 0, 0, 0, 0, 0, 0, 0, 0, 0, 0, 0, 0, 0, 0, 0, 0]]), 'attention_mask': tensor([[1, 1, 1, 1, 1, 1, 1, 1, 1, 1, 1, 1, 1, 1, 1, 1, 1, 0, 0, 0],\n",
      "        [1, 1, 1, 1, 1, 1, 1, 1, 1, 1, 1, 1, 1, 1, 1, 1, 0, 0, 0, 0],\n",
      "        [1, 1, 1, 1, 1, 1, 1, 1, 1, 1, 1, 1, 1, 0, 0, 0, 0, 0, 0, 0],\n",
      "        [1, 1, 1, 1, 1, 1, 1, 1, 1, 1, 1, 1, 1, 1, 1, 0, 0, 0, 0, 0],\n",
      "        [1, 1, 1, 1, 1, 1, 1, 1, 1, 1, 1, 1, 1, 1, 1, 1, 1, 1, 1, 1],\n",
      "        [1, 1, 1, 1, 1, 1, 1, 1, 1, 1, 1, 1, 1, 1, 1, 1, 1, 0, 0, 0],\n",
      "        [1, 1, 1, 1, 1, 1, 1, 1, 1, 1, 1, 1, 1, 1, 1, 1, 1, 1, 1, 0]])}\n"
     ]
    }
   ],
   "source": [
    "inputs = tokenizer(headlines_list, padding = True, truncation = True, return_tensors='pt', is_split_into_words=True)\n",
    "print(inputs)"
   ]
  },
  {
   "cell_type": "code",
   "execution_count": 8,
   "id": "6758c417",
   "metadata": {},
   "outputs": [
    {
     "name": "stdout",
     "output_type": "stream",
     "text": [
      "torch.Size([7, 3])\n"
     ]
    }
   ],
   "source": [
    "# Inference\n",
    "outputs = model(**inputs)\n",
    "print(outputs.logits.shape)"
   ]
  },
  {
   "cell_type": "code",
   "execution_count": 9,
   "id": "e16a0089",
   "metadata": {},
   "outputs": [
    {
     "name": "stdout",
     "output_type": "stream",
     "text": [
      "tensor([[0.0176, 0.9505, 0.0319],\n",
      "        [0.3517, 0.0119, 0.6364],\n",
      "        [0.0279, 0.3533, 0.6187],\n",
      "        [0.1958, 0.0098, 0.7944],\n",
      "        [0.0189, 0.7687, 0.2124],\n",
      "        [0.1026, 0.0191, 0.8783],\n",
      "        [0.0353, 0.0201, 0.9446]], grad_fn=<SoftmaxBackward0>)\n"
     ]
    }
   ],
   "source": [
    "# Postprocessing with softmax\n",
    "predictions = torch.nn.functional.softmax(outputs.logits, dim=-1)\n",
    "print(predictions)"
   ]
  },
  {
   "cell_type": "code",
   "execution_count": 10,
   "id": "0a980154",
   "metadata": {},
   "outputs": [
    {
     "data": {
      "text/plain": [
       "{0: 'positive', 1: 'negative', 2: 'neutral'}"
      ]
     },
     "execution_count": 10,
     "metadata": {},
     "output_type": "execute_result"
    }
   ],
   "source": [
    "# Model classes\n",
    "model.config.id2label"
   ]
  },
  {
   "cell_type": "code",
   "execution_count": 11,
   "id": "cea2e804",
   "metadata": {},
   "outputs": [
    {
     "data": {
      "text/html": [
       "<div>\n",
       "<style scoped>\n",
       "    .dataframe tbody tr th:only-of-type {\n",
       "        vertical-align: middle;\n",
       "    }\n",
       "\n",
       "    .dataframe tbody tr th {\n",
       "        vertical-align: top;\n",
       "    }\n",
       "\n",
       "    .dataframe thead th {\n",
       "        text-align: right;\n",
       "    }\n",
       "</style>\n",
       "<table border=\"1\" class=\"dataframe\">\n",
       "  <thead>\n",
       "    <tr style=\"text-align: right;\">\n",
       "      <th></th>\n",
       "      <th>Headline</th>\n",
       "      <th>Positive</th>\n",
       "      <th>Negative</th>\n",
       "      <th>Neutral</th>\n",
       "    </tr>\n",
       "  </thead>\n",
       "  <tbody>\n",
       "    <tr>\n",
       "      <th>0</th>\n",
       "      <td>[Demand for transatlantic flights soars as Americans can't get enough of Europe]</td>\n",
       "      <td>0.017596</td>\n",
       "      <td>0.950474</td>\n",
       "      <td>0.031929</td>\n",
       "    </tr>\n",
       "    <tr>\n",
       "      <th>1</th>\n",
       "      <td>[Zimbabwe's new 300 MW coal-fired plant starts feeding into grid]</td>\n",
       "      <td>0.351730</td>\n",
       "      <td>0.011906</td>\n",
       "      <td>0.636364</td>\n",
       "    </tr>\n",
       "    <tr>\n",
       "      <th>2</th>\n",
       "      <td>[Exclusive: First Republic considers downsizing if capital raise fails]</td>\n",
       "      <td>0.027914</td>\n",
       "      <td>0.353340</td>\n",
       "      <td>0.618747</td>\n",
       "    </tr>\n",
       "    <tr>\n",
       "      <th>3</th>\n",
       "      <td>[Exclusive: EU drafts plan to allow e-fuel combustion engine cars]</td>\n",
       "      <td>0.195809</td>\n",
       "      <td>0.009805</td>\n",
       "      <td>0.794386</td>\n",
       "    </tr>\n",
       "    <tr>\n",
       "      <th>4</th>\n",
       "      <td>[SVB Financial Group accuses FDIC of cutting it off from cash, article with video]</td>\n",
       "      <td>0.018868</td>\n",
       "      <td>0.768729</td>\n",
       "      <td>0.212404</td>\n",
       "    </tr>\n",
       "    <tr>\n",
       "      <th>5</th>\n",
       "      <td>[Putin says Chinese proposal could be basis for peace in Ukraine, article with video]</td>\n",
       "      <td>0.102637</td>\n",
       "      <td>0.019110</td>\n",
       "      <td>0.878253</td>\n",
       "    </tr>\n",
       "    <tr>\n",
       "      <th>6</th>\n",
       "      <td>[First Republic's future to be discussed as major bank CEOs meet, sources say]</td>\n",
       "      <td>0.035345</td>\n",
       "      <td>0.020050</td>\n",
       "      <td>0.944605</td>\n",
       "    </tr>\n",
       "  </tbody>\n",
       "</table>\n",
       "</div>"
      ],
      "text/plain": [
       "                                                                                Headline  \\\n",
       "0       [Demand for transatlantic flights soars as Americans can't get enough of Europe]   \n",
       "1                      [Zimbabwe's new 300 MW coal-fired plant starts feeding into grid]   \n",
       "2                [Exclusive: First Republic considers downsizing if capital raise fails]   \n",
       "3                     [Exclusive: EU drafts plan to allow e-fuel combustion engine cars]   \n",
       "4     [SVB Financial Group accuses FDIC of cutting it off from cash, article with video]   \n",
       "5  [Putin says Chinese proposal could be basis for peace in Ukraine, article with video]   \n",
       "6         [First Republic's future to be discussed as major bank CEOs meet, sources say]   \n",
       "\n",
       "   Positive  Negative   Neutral  \n",
       "0  0.017596  0.950474  0.031929  \n",
       "1  0.351730  0.011906  0.636364  \n",
       "2  0.027914  0.353340  0.618747  \n",
       "3  0.195809  0.009805  0.794386  \n",
       "4  0.018868  0.768729  0.212404  \n",
       "5  0.102637  0.019110  0.878253  \n",
       "6  0.035345  0.020050  0.944605  "
      ]
     },
     "metadata": {},
     "output_type": "display_data"
    }
   ],
   "source": [
    "# Formatting results as pandas dataframe\n",
    "\n",
    "# Headline sentiment\n",
    "positive = predictions[:, 0].tolist()\n",
    "negative = predictions[:, 1].tolist()\n",
    "neutral = predictions[:, 2].tolist()\n",
    "\n",
    "table = {'Headline':headlines_list,\n",
    "        'Positive':positive,\n",
    "        'Negative':negative,\n",
    "        'Neutral':neutral}\n",
    "\n",
    "df = pd.DataFrame(table, columns = [\"Headline\", \"Positive\", \"Negative\", \"Neutral\"])\n",
    "\n",
    "display(df)"
   ]
  }
 ],
 "metadata": {
  "kernelspec": {
   "display_name": "Python 3 (ipykernel)",
   "language": "python",
   "name": "python3"
  },
  "language_info": {
   "codemirror_mode": {
    "name": "ipython",
    "version": 3
   },
   "file_extension": ".py",
   "mimetype": "text/x-python",
   "name": "python",
   "nbconvert_exporter": "python",
   "pygments_lexer": "ipython3",
   "version": "3.9.16"
  }
 },
 "nbformat": 4,
 "nbformat_minor": 5
}
