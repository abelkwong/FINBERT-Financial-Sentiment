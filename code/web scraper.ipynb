{
 "cells": [
  {
   "cell_type": "markdown",
   "id": "354f238b",
   "metadata": {},
   "source": [
    "## 1. Load Libraries"
   ]
  },
  {
   "cell_type": "code",
   "execution_count": 4,
   "id": "ad35b234",
   "metadata": {},
   "outputs": [],
   "source": [
    "from bs4 import BeautifulSoup\n",
    "import requests, re\n",
    "import csv"
   ]
  },
  {
   "cell_type": "markdown",
   "id": "8c00f202",
   "metadata": {},
   "source": [
    "## 2. Web Scraping"
   ]
  },
  {
   "cell_type": "code",
   "execution_count": 46,
   "id": "8d6571b8",
   "metadata": {
    "scrolled": false
   },
   "outputs": [],
   "source": [
    "url = \"https://www.reuters.com/markets/\"\n",
    "response = requests.get(url)\n",
    "\n",
    "soup = BeautifulSoup(response.text, \"html.parser\")\n",
    "\n",
    "data = []\n",
    "\n",
    "for x in headlines:\n",
    "    if len(x.text) > 15:\n",
    "        data.append(x.text.strip())"
   ]
  },
  {
   "cell_type": "code",
   "execution_count": 47,
   "id": "31df7983",
   "metadata": {},
   "outputs": [
    {
     "name": "stdout",
     "output_type": "stream",
     "text": [
      "['Blackstone defaults on $562 mln Nordic property-backed CMBS - Bloomberg News, article with image', 'Exclusive: Microsoft set to win EU nod on Activision with licensing offer, sources say, article with image', \"Porn Zoom bomb forces cancellation of Fed's Waller event, article with image\", \"Fed wrestles whether recent data a 'blip' or a warning on inflation, article with image\", 'Costco misses quarterly revenue estimates as demand slows for discretionary goods, article with image', \"U.S. adds units of China's BGI, Inspur to trade blacklist, article with image\", \"Fed's Waller: if data stays hot, policy rate should go above 5.1%-5.4%, article with image\"]\n"
     ]
    }
   ],
   "source": [
    "print(data)"
   ]
  }
 ],
 "metadata": {
  "kernelspec": {
   "display_name": "Python 3 (ipykernel)",
   "language": "python",
   "name": "python3"
  },
  "language_info": {
   "codemirror_mode": {
    "name": "ipython",
    "version": 3
   },
   "file_extension": ".py",
   "mimetype": "text/x-python",
   "name": "python",
   "nbconvert_exporter": "python",
   "pygments_lexer": "ipython3",
   "version": "3.9.16"
  }
 },
 "nbformat": 4,
 "nbformat_minor": 5
}
