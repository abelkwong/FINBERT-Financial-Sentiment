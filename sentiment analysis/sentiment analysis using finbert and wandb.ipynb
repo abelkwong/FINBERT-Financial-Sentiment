{
 "cells": [
  {
   "cell_type": "markdown",
   "id": "f1c2bc66",
   "metadata": {},
   "source": [
    "## Introduction"
   ]
  },
  {
   "cell_type": "markdown",
   "id": "aca4b7b7",
   "metadata": {},
   "source": [
    "We will be using the **FinBERT** transformer model to predict sentiment from current financial news headlines.\n",
    "\n",
    "FinBERT, a specialized BERT model in the financial domain, is a pre-trained learning model of language representation. The model can be used to predict sentiment of a news article or headline which can be useful for understanding market conditions and context.\n",
    "\n",
    "The Financial PhraseBank used to train this model is credited to the following research article: [Malo, P., Sinha, A., Takala, P., Korhonen, P., & Wallenius, J. (2013, July 23). Good debt or bad debt: Detecting semantic orientations in economic texts. arXiv.org. Retrieved February 28, 2023, from https://arxiv.org/abs/1307.5336](https://arxiv.org/pdf/1307.5336.pdf)"
   ]
  },
  {
   "cell_type": "markdown",
   "id": "d33ccea2",
   "metadata": {},
   "source": [
    "## Import Libraries"
   ]
  },
  {
   "cell_type": "code",
   "execution_count": 1,
   "id": "9331e531",
   "metadata": {},
   "outputs": [],
   "source": [
    "import pandas as pd\n",
    "import numpy as np\n",
    "import matplotlib.pyplot as plt\n",
    "import seaborn as sns\n",
    "\n",
    "from sklearn.model_selection import train_test_split\n",
    "from sklearn.metrics import confusion_matrix, classification_report\n",
    "\n",
    "import torch\n",
    "from transformers import AutoTokenizer, AutoModelForSequenceClassification\n",
    "\n",
    "pd.set_option('display.max_colwidth', None)\n",
    "%matplotlib inline"
   ]
  },
  {
   "cell_type": "markdown",
   "id": "d5bbb88c",
   "metadata": {},
   "source": [
    "## Load Data"
   ]
  },
  {
   "cell_type": "code",
   "execution_count": 2,
   "id": "47624da6",
   "metadata": {
    "scrolled": false
   },
   "outputs": [
    {
     "data": {
      "text/html": [
       "<div>\n",
       "<style scoped>\n",
       "    .dataframe tbody tr th:only-of-type {\n",
       "        vertical-align: middle;\n",
       "    }\n",
       "\n",
       "    .dataframe tbody tr th {\n",
       "        vertical-align: top;\n",
       "    }\n",
       "\n",
       "    .dataframe thead th {\n",
       "        text-align: right;\n",
       "    }\n",
       "</style>\n",
       "<table border=\"1\" class=\"dataframe\">\n",
       "  <thead>\n",
       "    <tr style=\"text-align: right;\">\n",
       "      <th></th>\n",
       "      <th>According to Gran , the company has no plans to move all production to Russia , although that is where the company is growing .@neutral</th>\n",
       "    </tr>\n",
       "  </thead>\n",
       "  <tbody>\n",
       "    <tr>\n",
       "      <th>0</th>\n",
       "      <td>For the last quarter of 2010 , Componenta 's net sales doubled to EUR131m from EUR76m for the same period a year earlier , while it moved to a zero pre-tax profit from a pre-tax loss of EUR7m .@positive</td>\n",
       "    </tr>\n",
       "    <tr>\n",
       "      <th>1</th>\n",
       "      <td>In the third quarter of 2010 , net sales increased by 5.2 % to EUR 205.5 mn , and operating profit by 34.9 % to EUR 23.5 mn .@positive</td>\n",
       "    </tr>\n",
       "    <tr>\n",
       "      <th>2</th>\n",
       "      <td>Operating profit rose to EUR 13.1 mn from EUR 8.7 mn in the corresponding period in 2007 representing 7.7 % of net sales .@positive</td>\n",
       "    </tr>\n",
       "    <tr>\n",
       "      <th>3</th>\n",
       "      <td>Operating profit totalled EUR 21.1 mn , up from EUR 18.6 mn in 2007 , representing 9.7 % of net sales .@positive</td>\n",
       "    </tr>\n",
       "    <tr>\n",
       "      <th>4</th>\n",
       "      <td>Finnish Talentum reports its operating profit increased to EUR 20.5 mn in 2005 from EUR 9.3 mn in 2004 , and net sales totaled EUR 103.3 mn , up from EUR 96.4 mn .@positive</td>\n",
       "    </tr>\n",
       "  </tbody>\n",
       "</table>\n",
       "</div>"
      ],
      "text/plain": [
       "                                                                      According to Gran , the company has no plans to move all production to Russia , although that is where the company is growing .@neutral\n",
       "0  For the last quarter of 2010 , Componenta 's net sales doubled to EUR131m from EUR76m for the same period a year earlier , while it moved to a zero pre-tax profit from a pre-tax loss of EUR7m .@positive\n",
       "1                                                                      In the third quarter of 2010 , net sales increased by 5.2 % to EUR 205.5 mn , and operating profit by 34.9 % to EUR 23.5 mn .@positive\n",
       "2                                                                         Operating profit rose to EUR 13.1 mn from EUR 8.7 mn in the corresponding period in 2007 representing 7.7 % of net sales .@positive\n",
       "3                                                                                            Operating profit totalled EUR 21.1 mn , up from EUR 18.6 mn in 2007 , representing 9.7 % of net sales .@positive\n",
       "4                                Finnish Talentum reports its operating profit increased to EUR 20.5 mn in 2005 from EUR 9.3 mn in 2004 , and net sales totaled EUR 103.3 mn , up from EUR 96.4 mn .@positive"
      ]
     },
     "metadata": {},
     "output_type": "display_data"
    }
   ],
   "source": [
    "import codecs\n",
    "\n",
    "# Open the input file for reading with the original encoding\n",
    "with codecs.open('Sentences_AllAgree.txt', 'r', encoding='ISO-8859-1') as f:\n",
    "    # Read the file content\n",
    "    file_content = f.read()\n",
    "\n",
    "# Open the output file for writing with utf-8 encoding\n",
    "with codecs.open('Sentences_AllAgree_new.txt', 'w', encoding='utf-8') as f:\n",
    "    # Write the file content with utf-8 encoding\n",
    "    f.write(file_content)\n",
    "    \n",
    "# Load the new UTF-8 encoded file into a Pandas Dataframe\n",
    "df = pd.read_csv('Sentences_AllAgree_new.txt', delimiter='\\t')\n",
    "display(df.head(5))"
   ]
  },
  {
   "cell_type": "markdown",
   "id": "de545b0d",
   "metadata": {},
   "source": [
    "## Clean Data"
   ]
  },
  {
   "cell_type": "markdown",
   "id": "16bb580c",
   "metadata": {},
   "source": [
    "As seen above, the data needs to be preprocessed before proceeding with analysis. Currently, the first row is placed in the columns section of the dataframe; we will shift this input one cell below with the following manipulation. \n",
    "\n",
    "In addition, we will separate each string at the `\"@\"` character using the .split() method. We can then separate the results into two columns named `news headline` and `sentiment`."
   ]
  },
  {
   "cell_type": "code",
   "execution_count": 3,
   "id": "23a4fad3",
   "metadata": {
    "scrolled": true
   },
   "outputs": [
    {
     "data": {
      "text/html": [
       "<div>\n",
       "<style scoped>\n",
       "    .dataframe tbody tr th:only-of-type {\n",
       "        vertical-align: middle;\n",
       "    }\n",
       "\n",
       "    .dataframe tbody tr th {\n",
       "        vertical-align: top;\n",
       "    }\n",
       "\n",
       "    .dataframe thead th {\n",
       "        text-align: right;\n",
       "    }\n",
       "</style>\n",
       "<table border=\"1\" class=\"dataframe\">\n",
       "  <thead>\n",
       "    <tr style=\"text-align: right;\">\n",
       "      <th></th>\n",
       "      <th>According to Gran , the company has no plans to move all production to Russia , although that is where the company is growing .@neutral</th>\n",
       "    </tr>\n",
       "  </thead>\n",
       "  <tbody>\n",
       "    <tr>\n",
       "      <th>0</th>\n",
       "      <td>According to Gran , the company has no plans to move all production to Russia , although that is where the company is growing .@neutral</td>\n",
       "    </tr>\n",
       "    <tr>\n",
       "      <th>1</th>\n",
       "      <td>For the last quarter of 2010 , Componenta 's net sales doubled to EUR131m from EUR76m for the same period a year earlier , while it moved to a zero pre-tax profit from a pre-tax loss of EUR7m .@positive</td>\n",
       "    </tr>\n",
       "    <tr>\n",
       "      <th>2</th>\n",
       "      <td>In the third quarter of 2010 , net sales increased by 5.2 % to EUR 205.5 mn , and operating profit by 34.9 % to EUR 23.5 mn .@positive</td>\n",
       "    </tr>\n",
       "    <tr>\n",
       "      <th>3</th>\n",
       "      <td>Operating profit rose to EUR 13.1 mn from EUR 8.7 mn in the corresponding period in 2007 representing 7.7 % of net sales .@positive</td>\n",
       "    </tr>\n",
       "    <tr>\n",
       "      <th>4</th>\n",
       "      <td>Operating profit totalled EUR 21.1 mn , up from EUR 18.6 mn in 2007 , representing 9.7 % of net sales .@positive</td>\n",
       "    </tr>\n",
       "  </tbody>\n",
       "</table>\n",
       "</div>"
      ],
      "text/plain": [
       "                                                                      According to Gran , the company has no plans to move all production to Russia , although that is where the company is growing .@neutral\n",
       "0                                                                     According to Gran , the company has no plans to move all production to Russia , although that is where the company is growing .@neutral\n",
       "1  For the last quarter of 2010 , Componenta 's net sales doubled to EUR131m from EUR76m for the same period a year earlier , while it moved to a zero pre-tax profit from a pre-tax loss of EUR7m .@positive\n",
       "2                                                                      In the third quarter of 2010 , net sales increased by 5.2 % to EUR 205.5 mn , and operating profit by 34.9 % to EUR 23.5 mn .@positive\n",
       "3                                                                         Operating profit rose to EUR 13.1 mn from EUR 8.7 mn in the corresponding period in 2007 representing 7.7 % of net sales .@positive\n",
       "4                                                                                            Operating profit totalled EUR 21.1 mn , up from EUR 18.6 mn in 2007 , representing 9.7 % of net sales .@positive"
      ]
     },
     "metadata": {},
     "output_type": "display_data"
    }
   ],
   "source": [
    "# Set column value to new row\n",
    "new_row = list(df.columns)\n",
    "\n",
    "# Insert the new row above the first row\n",
    "df.loc[-1] = new_row\n",
    "df.index = df.index + 1\n",
    "df = df.sort_index()\n",
    "display(df.head())"
   ]
  },
  {
   "cell_type": "code",
   "execution_count": 4,
   "id": "bff304fa",
   "metadata": {
    "scrolled": false
   },
   "outputs": [
    {
     "data": {
      "text/html": [
       "<div>\n",
       "<style scoped>\n",
       "    .dataframe tbody tr th:only-of-type {\n",
       "        vertical-align: middle;\n",
       "    }\n",
       "\n",
       "    .dataframe tbody tr th {\n",
       "        vertical-align: top;\n",
       "    }\n",
       "\n",
       "    .dataframe thead th {\n",
       "        text-align: right;\n",
       "    }\n",
       "</style>\n",
       "<table border=\"1\" class=\"dataframe\">\n",
       "  <thead>\n",
       "    <tr style=\"text-align: right;\">\n",
       "      <th></th>\n",
       "      <th>News Article</th>\n",
       "      <th>Sentiment</th>\n",
       "    </tr>\n",
       "  </thead>\n",
       "  <tbody>\n",
       "    <tr>\n",
       "      <th>0</th>\n",
       "      <td>According to Gran , the company has no plans to move all production to Russia , although that is where the company is growing .</td>\n",
       "      <td>neutral</td>\n",
       "    </tr>\n",
       "    <tr>\n",
       "      <th>1</th>\n",
       "      <td>For the last quarter of 2010 , Componenta 's net sales doubled to EUR131m from EUR76m for the same period a year earlier , while it moved to a zero pre-tax profit from a pre-tax loss of EUR7m .</td>\n",
       "      <td>positive</td>\n",
       "    </tr>\n",
       "    <tr>\n",
       "      <th>2</th>\n",
       "      <td>In the third quarter of 2010 , net sales increased by 5.2 % to EUR 205.5 mn , and operating profit by 34.9 % to EUR 23.5 mn .</td>\n",
       "      <td>positive</td>\n",
       "    </tr>\n",
       "    <tr>\n",
       "      <th>3</th>\n",
       "      <td>Operating profit rose to EUR 13.1 mn from EUR 8.7 mn in the corresponding period in 2007 representing 7.7 % of net sales .</td>\n",
       "      <td>positive</td>\n",
       "    </tr>\n",
       "    <tr>\n",
       "      <th>4</th>\n",
       "      <td>Operating profit totalled EUR 21.1 mn , up from EUR 18.6 mn in 2007 , representing 9.7 % of net sales .</td>\n",
       "      <td>positive</td>\n",
       "    </tr>\n",
       "  </tbody>\n",
       "</table>\n",
       "</div>"
      ],
      "text/plain": [
       "                                                                                                                                                                                        News Article  \\\n",
       "0                                                                    According to Gran , the company has no plans to move all production to Russia , although that is where the company is growing .   \n",
       "1  For the last quarter of 2010 , Componenta 's net sales doubled to EUR131m from EUR76m for the same period a year earlier , while it moved to a zero pre-tax profit from a pre-tax loss of EUR7m .   \n",
       "2                                                                      In the third quarter of 2010 , net sales increased by 5.2 % to EUR 205.5 mn , and operating profit by 34.9 % to EUR 23.5 mn .   \n",
       "3                                                                         Operating profit rose to EUR 13.1 mn from EUR 8.7 mn in the corresponding period in 2007 representing 7.7 % of net sales .   \n",
       "4                                                                                            Operating profit totalled EUR 21.1 mn , up from EUR 18.6 mn in 2007 , representing 9.7 % of net sales .   \n",
       "\n",
       "  Sentiment  \n",
       "0   neutral  \n",
       "1  positive  \n",
       "2  positive  \n",
       "3  positive  \n",
       "4  positive  "
      ]
     },
     "metadata": {},
     "output_type": "display_data"
    }
   ],
   "source": [
    "# Look through each row and split at \"@\" character\n",
    "df.columns = ['article']\n",
    "news_article= []\n",
    "sentiment = []\n",
    "\n",
    "for index, row in df.iterrows():\n",
    "    row = row['article'].split('@')\n",
    "    news_article.append(row[0])\n",
    "    sentiment.append(row[1])\n",
    "    \n",
    "# Create new dataframe\n",
    "df = pd.DataFrame({\"News Article\": news_article, \"Sentiment\": sentiment})\n",
    "display(df.head())"
   ]
  },
  {
   "cell_type": "markdown",
   "id": "8d026b5c",
   "metadata": {},
   "source": [
    "## Explore Data"
   ]
  },
  {
   "cell_type": "markdown",
   "id": "8e8f9a77",
   "metadata": {},
   "source": [
    "**Distribution of word and character count**"
   ]
  },
  {
   "cell_type": "markdown",
   "id": "51d6dcf9",
   "metadata": {},
   "source": [
    "First, we will remove all punctuations in each sentence using a combination of regex and string methods. The word length for each sentence will be appended to a list called `word_count` and the same for each character to `character_count`. "
   ]
  },
  {
   "cell_type": "code",
   "execution_count": 5,
   "id": "8ccdc78d",
   "metadata": {},
   "outputs": [],
   "source": [
    "import re\n",
    "\n",
    "# Loop through each row and find word/character count\n",
    "word_count = []\n",
    "character_count = []\n",
    "\n",
    "for i in range(len(df['News Article'])):\n",
    "    # Remove any punctuations\n",
    "    sentence = re.sub(r'[^\\w\\s]', '', df['News Article'][i])\n",
    "    \n",
    "    # Split sentence into list of words\n",
    "    words = sentence.split()\n",
    "    extracted_words = []\n",
    "    \n",
    "    # Iterate through each word to see if it is alphabetic\n",
    "    for word in words:\n",
    "        if word.isalpha():\n",
    "            extracted_words.append(word)\n",
    "    \n",
    "    # Join list of extracted words together and append character count to list\n",
    "    extracted_sentence = ' '.join(extracted_words)\n",
    "    character_count.append(len(extracted_sentence))\n",
    "    \n",
    "    # Split extracted sentence into separate words and append word count to list\n",
    "    split_sentence = extracted_sentence.split()\n",
    "    word_count.append(len(split_sentence))"
   ]
  },
  {
   "cell_type": "code",
   "execution_count": 6,
   "id": "fd5ec2df",
   "metadata": {
    "scrolled": false
   },
   "outputs": [
    {
     "data": {
      "image/png": "[encoded data removed]",
      "text/plain": [
       "<Figure size 500x500 with 1 Axes>"
      ]
     },
     "metadata": {},
     "output_type": "display_data"
    }
   ],
   "source": [
    "# Plot distribution of word count\n",
    "sns.displot(word_count, kde=True)\n",
    "plt.title('Distribution of Word Count')\n",
    "plt.xlabel('Word Length')\n",
    "plt.show()"
   ]
  },
  {
   "cell_type": "markdown",
   "id": "ffa1c3cd",
   "metadata": {},
   "source": [
    "The word count distribution appears to be normally distributed with the highest frequencies around 15-20 words. "
   ]
  },
  {
   "cell_type": "code",
   "execution_count": 7,
   "id": "d3badffc",
   "metadata": {
    "scrolled": false
   },
   "outputs": [
    {
     "data": {
      "image/png": "[encoded data removed]",
      "text/plain": [
       "<Figure size 500x500 with 1 Axes>"
      ]
     },
     "metadata": {},
     "output_type": "display_data"
    }
   ],
   "source": [
    "# Plot distribution of character count\n",
    "sns.displot(character_count, kde=True)\n",
    "plt.title('Distribution of Character Count')\n",
    "plt.xlabel('Character length')\n",
    "plt.show()"
   ]
  },
  {
   "cell_type": "markdown",
   "id": "276fd346",
   "metadata": {},
   "source": [
    "Similarly, the distribution of character length appears to be normally distributed with the highest frequencies around 60-100 characters. "
   ]
  },
  {
   "cell_type": "markdown",
   "id": "919b5723",
   "metadata": {},
   "source": [
    "**Distribution of sentiment**"
   ]
  },
  {
   "cell_type": "code",
   "execution_count": 8,
   "id": "535016ca",
   "metadata": {
    "scrolled": false
   },
   "outputs": [
    {
     "data": {
      "text/plain": [
       "[]"
      ]
     },
     "execution_count": 8,
     "metadata": {},
     "output_type": "execute_result"
    },
    {
     "data": {
      "image/png": "[encoded data removed]",
      "text/plain": [
       "<Figure size 500x500 with 1 Axes>"
      ]
     },
     "metadata": {},
     "output_type": "display_data"
    }
   ],
   "source": [
    "# Plot distribution of sentiment labels\n",
    "sns.displot(df['Sentiment'], kind='hist')\n",
    "plt.xlabel('Sentiment Label')\n",
    "plt.plot()"
   ]
  },
  {
   "cell_type": "markdown",
   "id": "3f496994",
   "metadata": {},
   "source": [
    "Most of news articles provided in the dataset were `neutral` labels. From first glance, the data is considered imbalance so we may need to assign weights accordingly prior to modeling. This statistical adjustment will help improve the accuracy of the classification model and will attempt to alleviate overfitting."
   ]
  },
  {
   "cell_type": "markdown",
   "id": "58f11934",
   "metadata": {},
   "source": [
    "## Implementation of FINBERT"
   ]
  },
  {
   "cell_type": "code",
   "execution_count": 9,
   "id": "01f40a5b",
   "metadata": {},
   "outputs": [
    {
     "name": "stdout",
     "output_type": "stream",
     "text": [
      "['Sales in Finland decreased by 2.0 % , and international sales decreased by 9.3 % in terms of euros , and by 15.1 % in terms of local currencies .', 'The transaction is expected to be finalized by Dec 2009 .', 'Market share decreased on the route between Helsinki in Finland and Tallinn in Estonia by 0.1 percentage points to 24.8 % .', 'Registration is required .', 'The share subscription period for stock options 2007A is between 1 April 2010 and 31 March 2012 .', 'Net profit in the three months through March 31 fell to (  x20ac ) 103 million ( US$ 165 million ) from (  x20ac ) 131 million a year earlier , the Finnish company said .', \"Following the demerger , the vice president of the group 's pharmaceutical trade in Finland , Jukka Niemi , will be appointed managing director of Oriola in addition to his current responsibilities .\", 'Increase in the number of shares is based on the option rights which were granted to the management of the company under the stock option plan 2006 .', 'Biohit already services many current Genesis customers and the customer base is expected to expand as a result of this agreement .', 'The estimated value of the deal is USD 9.2 million .', 'No service pricing details were disclosed .', \"The world 's second largest stainless steel maker said net profit in the three-month period until Dec. 31 surged to euro603 million US$ 781 million , or euro3 .33 US$ 4.31 per share , from euro172 million , or euro0 .94 per share , the previous year .\", 'The energy sector accounted for approximately 33 % and the steel industry for about 57 % of the transportation volume .', 'The contract value amounts to about EUR11m , the company added .', 'BM4 middle layer headbox will be equipped with a dilution control system .', 'CapMan Plc Press Release 31 March 2008 Jukka Ruuska , President of the OMX Nordic Exchanges and the Stockholm Stock Exchange , will transfer to CapMan effective no later than September 2008 .', \"These sections will be put into place to form the load-bearing steel structure of the bridge , '' says Sami Eronen , Senior Vice President , Infrastructure and Northern Europe , Ruukki Construction .\", 'This includes a EUR 39.5 mn change in the fair value of investment properties .', 'Operating profit , excluding non-recurring items , totalled EUR 1.0 mn , down from EUR 1.6 mn .', 'Operating profit of operations in Finland in the period under review totaled EUR 11.3 mn , remaining at the 2005 level .', 'LKAB , headquartered in Lulea , Sweden , is a high-tech mining company producing upgraded iron ore products for the steel industry .', 'Operating profit totalled EUR 5.8 mn , up from a loss of EUR 1.7 mn in the fourth quarter of 2009 .', 'Thus the method will cut working costs , and will fasten the planning and building processes .', 'Janis Arbidans , CEO of YIT Celtnieciba , said the company was focusing on housing and real estate development market .', 'Indigo and Somoncom serve 377,000 subscribers and had a market share of approximately 27 % as of May 2007 .', 'Stora is due to release its fourth-quarter and 2009 full-year earnings on Feb. 4 .', 'Rautaruukki said construction group YIT has awarded it a 2.5 mln eur contract to supply the steel structures for a new bridge spanning the Kemijoki river in Northern Finland .', 'Operating profit of Kauppalehti group rose to EUR 1.5 mn from EUR 1.3 mn , and that of Marketplaces to EUR 1.3 mn from EUR 1.0 mn in the third quarter of 2006 .', \"Ms Laakso will be responsible for HKScan 's HR functions and for their development in all of the Group ` smarket areas .\", 'Metso expects its net sales to increase by about 10 % in 2008 , at comparable exchange rates .']\n"
     ]
    }
   ],
   "source": [
    "# Test data\n",
    "articles_array = np.array(df['News Article'])\n",
    "np.random.shuffle(articles_array)\n",
    "test = (articles_array[:30]).tolist()\n",
    "print(test)"
   ]
  },
  {
   "cell_type": "code",
   "execution_count": 10,
   "id": "2afa36aa",
   "metadata": {},
   "outputs": [],
   "source": [
    "# Pretrain model with FinBert\n",
    "tokenizer = AutoTokenizer.from_pretrained(\"ProsusAI/finbert\")\n",
    "model = AutoModelForSequenceClassification.from_pretrained(\"ProsusAI/finbert\")"
   ]
  },
  {
   "cell_type": "code",
   "execution_count": 11,
   "id": "caf232f2",
   "metadata": {},
   "outputs": [
    {
     "name": "stdout",
     "output_type": "stream",
     "text": [
      "{'input_ids': tensor([[  101,  4341,  1999,  ...,     0,     0,     0],\n",
      "        [  101,  1996, 12598,  ...,     0,     0,     0],\n",
      "        [  101,  3006,  3745,  ...,     0,     0,     0],\n",
      "        ...,\n",
      "        [  101,  4082,  5618,  ...,     0,     0,     0],\n",
      "        [  101,  5796,  2474,  ...,     0,     0,     0],\n",
      "        [  101, 15253,  2080,  ...,     0,     0,     0]]), 'token_type_ids': tensor([[0, 0, 0,  ..., 0, 0, 0],\n",
      "        [0, 0, 0,  ..., 0, 0, 0],\n",
      "        [0, 0, 0,  ..., 0, 0, 0],\n",
      "        ...,\n",
      "        [0, 0, 0,  ..., 0, 0, 0],\n",
      "        [0, 0, 0,  ..., 0, 0, 0],\n",
      "        [0, 0, 0,  ..., 0, 0, 0]]), 'attention_mask': tensor([[1, 1, 1,  ..., 0, 0, 0],\n",
      "        [1, 1, 1,  ..., 0, 0, 0],\n",
      "        [1, 1, 1,  ..., 0, 0, 0],\n",
      "        ...,\n",
      "        [1, 1, 1,  ..., 0, 0, 0],\n",
      "        [1, 1, 1,  ..., 0, 0, 0],\n",
      "        [1, 1, 1,  ..., 0, 0, 0]])}\n"
     ]
    }
   ],
   "source": [
    "# Create inputs \n",
    "inputs = tokenizer(test, padding = True, truncation = True, return_tensors = 'pt')\n",
    "print(inputs)"
   ]
  },
  {
   "cell_type": "code",
   "execution_count": 12,
   "id": "21bb4efd",
   "metadata": {},
   "outputs": [
    {
     "name": "stdout",
     "output_type": "stream",
     "text": [
      "torch.Size([30, 3])\n"
     ]
    }
   ],
   "source": [
    "# Inference\n",
    "outputs = model(**inputs)\n",
    "print(outputs.logits.shape)"
   ]
  },
  {
   "cell_type": "code",
   "execution_count": 13,
   "id": "2b796e09",
   "metadata": {},
   "outputs": [
    {
     "name": "stdout",
     "output_type": "stream",
     "text": [
      "tensor([[0.0085, 0.9731, 0.0184],\n",
      "        [0.0601, 0.0116, 0.9283],\n",
      "        [0.0079, 0.9744, 0.0177],\n",
      "        [0.0200, 0.0395, 0.9405],\n",
      "        [0.0164, 0.0380, 0.9456],\n",
      "        [0.0067, 0.9761, 0.0171],\n",
      "        [0.0269, 0.0238, 0.9494],\n",
      "        [0.0813, 0.0090, 0.9097],\n",
      "        [0.9324, 0.0101, 0.0575],\n",
      "        [0.0425, 0.0129, 0.9447],\n",
      "        [0.0219, 0.0353, 0.9428],\n",
      "        [0.9479, 0.0310, 0.0211],\n",
      "        [0.0286, 0.0242, 0.9472],\n",
      "        [0.0628, 0.0150, 0.9223],\n",
      "        [0.1623, 0.0080, 0.8297],\n",
      "        [0.0205, 0.0354, 0.9441],\n",
      "        [0.1318, 0.0101, 0.8582],\n",
      "        [0.2231, 0.0286, 0.7484],\n",
      "        [0.0086, 0.9767, 0.0147],\n",
      "        [0.2544, 0.4774, 0.2682],\n",
      "        [0.0717, 0.0126, 0.9157],\n",
      "        [0.9557, 0.0239, 0.0204],\n",
      "        [0.8114, 0.0170, 0.1717],\n",
      "        [0.0585, 0.0118, 0.9296],\n",
      "        [0.0787, 0.0102, 0.9111],\n",
      "        [0.0257, 0.0327, 0.9415],\n",
      "        [0.9465, 0.0169, 0.0366],\n",
      "        [0.9506, 0.0279, 0.0215],\n",
      "        [0.0979, 0.0083, 0.8938],\n",
      "        [0.9511, 0.0150, 0.0339]], grad_fn=<SoftmaxBackward0>)\n",
      "30\n"
     ]
    }
   ],
   "source": [
    "# Postprocessing with softmax\n",
    "predictions = torch.nn.functional.softmax(outputs.logits, dim=-1)\n",
    "print(predictions)\n",
    "print(len(predictions))"
   ]
  },
  {
   "cell_type": "code",
   "execution_count": 14,
   "id": "bf340ffb",
   "metadata": {},
   "outputs": [
    {
     "data": {
      "text/plain": [
       "{0: 'positive', 1: 'negative', 2: 'neutral'}"
      ]
     },
     "execution_count": 14,
     "metadata": {},
     "output_type": "execute_result"
    }
   ],
   "source": [
    "# Model classes\n",
    "model.config.id2label"
   ]
  },
  {
   "cell_type": "markdown",
   "id": "9fd74f92",
   "metadata": {},
   "source": [
    "## Final Predictions"
   ]
  },
  {
   "cell_type": "code",
   "execution_count": 16,
   "id": "a281fb4a",
   "metadata": {},
   "outputs": [
    {
     "data": {
      "text/html": [
       "<div>\n",
       "<style scoped>\n",
       "    .dataframe tbody tr th:only-of-type {\n",
       "        vertical-align: middle;\n",
       "    }\n",
       "\n",
       "    .dataframe tbody tr th {\n",
       "        vertical-align: top;\n",
       "    }\n",
       "\n",
       "    .dataframe thead th {\n",
       "        text-align: right;\n",
       "    }\n",
       "</style>\n",
       "<table border=\"1\" class=\"dataframe\">\n",
       "  <thead>\n",
       "    <tr style=\"text-align: right;\">\n",
       "      <th></th>\n",
       "      <th>Article</th>\n",
       "      <th>Positive</th>\n",
       "      <th>Negative</th>\n",
       "      <th>Neutral</th>\n",
       "    </tr>\n",
       "  </thead>\n",
       "  <tbody>\n",
       "    <tr>\n",
       "      <th>0</th>\n",
       "      <td>Sales in Finland decreased by 2.0 % , and international sales decreased by 9.3 % in terms of euros , and by 15.1 % in terms of local currencies .</td>\n",
       "      <td>0.008455</td>\n",
       "      <td>0.973128</td>\n",
       "      <td>0.018417</td>\n",
       "    </tr>\n",
       "    <tr>\n",
       "      <th>1</th>\n",
       "      <td>The transaction is expected to be finalized by Dec 2009 .</td>\n",
       "      <td>0.060103</td>\n",
       "      <td>0.011628</td>\n",
       "      <td>0.928269</td>\n",
       "    </tr>\n",
       "    <tr>\n",
       "      <th>2</th>\n",
       "      <td>Market share decreased on the route between Helsinki in Finland and Tallinn in Estonia by 0.1 percentage points to 24.8 % .</td>\n",
       "      <td>0.007879</td>\n",
       "      <td>0.974372</td>\n",
       "      <td>0.017749</td>\n",
       "    </tr>\n",
       "    <tr>\n",
       "      <th>3</th>\n",
       "      <td>Registration is required .</td>\n",
       "      <td>0.020011</td>\n",
       "      <td>0.039514</td>\n",
       "      <td>0.940474</td>\n",
       "    </tr>\n",
       "    <tr>\n",
       "      <th>4</th>\n",
       "      <td>The share subscription period for stock options 2007A is between 1 April 2010 and 31 March 2012 .</td>\n",
       "      <td>0.016447</td>\n",
       "      <td>0.037957</td>\n",
       "      <td>0.945596</td>\n",
       "    </tr>\n",
       "    <tr>\n",
       "      <th>5</th>\n",
       "      <td>Net profit in the three months through March 31 fell to (  x20ac ) 103 million ( US$ 165 million ) from (  x20ac ) 131 million a year earlier , the Finnish company said .</td>\n",
       "      <td>0.006742</td>\n",
       "      <td>0.976132</td>\n",
       "      <td>0.017126</td>\n",
       "    </tr>\n",
       "    <tr>\n",
       "      <th>6</th>\n",
       "      <td>Following the demerger , the vice president of the group 's pharmaceutical trade in Finland , Jukka Niemi , will be appointed managing director of Oriola in addition to his current responsibilities .</td>\n",
       "      <td>0.026874</td>\n",
       "      <td>0.023767</td>\n",
       "      <td>0.949360</td>\n",
       "    </tr>\n",
       "    <tr>\n",
       "      <th>7</th>\n",
       "      <td>Increase in the number of shares is based on the option rights which were granted to the management of the company under the stock option plan 2006 .</td>\n",
       "      <td>0.081323</td>\n",
       "      <td>0.008957</td>\n",
       "      <td>0.909720</td>\n",
       "    </tr>\n",
       "    <tr>\n",
       "      <th>8</th>\n",
       "      <td>Biohit already services many current Genesis customers and the customer base is expected to expand as a result of this agreement .</td>\n",
       "      <td>0.932396</td>\n",
       "      <td>0.010092</td>\n",
       "      <td>0.057512</td>\n",
       "    </tr>\n",
       "    <tr>\n",
       "      <th>9</th>\n",
       "      <td>The estimated value of the deal is USD 9.2 million .</td>\n",
       "      <td>0.042460</td>\n",
       "      <td>0.012872</td>\n",
       "      <td>0.944668</td>\n",
       "    </tr>\n",
       "    <tr>\n",
       "      <th>10</th>\n",
       "      <td>No service pricing details were disclosed .</td>\n",
       "      <td>0.021922</td>\n",
       "      <td>0.035281</td>\n",
       "      <td>0.942797</td>\n",
       "    </tr>\n",
       "    <tr>\n",
       "      <th>11</th>\n",
       "      <td>The world 's second largest stainless steel maker said net profit in the three-month period until Dec. 31 surged to euro603 million US$ 781 million , or euro3 .33 US$ 4.31 per share , from euro172 million , or euro0 .94 per share , the previous year .</td>\n",
       "      <td>0.947916</td>\n",
       "      <td>0.031006</td>\n",
       "      <td>0.021078</td>\n",
       "    </tr>\n",
       "    <tr>\n",
       "      <th>12</th>\n",
       "      <td>The energy sector accounted for approximately 33 % and the steel industry for about 57 % of the transportation volume .</td>\n",
       "      <td>0.028594</td>\n",
       "      <td>0.024188</td>\n",
       "      <td>0.947218</td>\n",
       "    </tr>\n",
       "    <tr>\n",
       "      <th>13</th>\n",
       "      <td>The contract value amounts to about EUR11m , the company added .</td>\n",
       "      <td>0.062777</td>\n",
       "      <td>0.014969</td>\n",
       "      <td>0.922254</td>\n",
       "    </tr>\n",
       "    <tr>\n",
       "      <th>14</th>\n",
       "      <td>BM4 middle layer headbox will be equipped with a dilution control system .</td>\n",
       "      <td>0.162323</td>\n",
       "      <td>0.007967</td>\n",
       "      <td>0.829710</td>\n",
       "    </tr>\n",
       "    <tr>\n",
       "      <th>15</th>\n",
       "      <td>CapMan Plc Press Release 31 March 2008 Jukka Ruuska , President of the OMX Nordic Exchanges and the Stockholm Stock Exchange , will transfer to CapMan effective no later than September 2008 .</td>\n",
       "      <td>0.020517</td>\n",
       "      <td>0.035369</td>\n",
       "      <td>0.944114</td>\n",
       "    </tr>\n",
       "    <tr>\n",
       "      <th>16</th>\n",
       "      <td>These sections will be put into place to form the load-bearing steel structure of the bridge , '' says Sami Eronen , Senior Vice President , Infrastructure and Northern Europe , Ruukki Construction .</td>\n",
       "      <td>0.131751</td>\n",
       "      <td>0.010093</td>\n",
       "      <td>0.858156</td>\n",
       "    </tr>\n",
       "    <tr>\n",
       "      <th>17</th>\n",
       "      <td>This includes a EUR 39.5 mn change in the fair value of investment properties .</td>\n",
       "      <td>0.223051</td>\n",
       "      <td>0.028594</td>\n",
       "      <td>0.748354</td>\n",
       "    </tr>\n",
       "    <tr>\n",
       "      <th>18</th>\n",
       "      <td>Operating profit , excluding non-recurring items , totalled EUR 1.0 mn , down from EUR 1.6 mn .</td>\n",
       "      <td>0.008600</td>\n",
       "      <td>0.976747</td>\n",
       "      <td>0.014653</td>\n",
       "    </tr>\n",
       "    <tr>\n",
       "      <th>19</th>\n",
       "      <td>Operating profit of operations in Finland in the period under review totaled EUR 11.3 mn , remaining at the 2005 level .</td>\n",
       "      <td>0.254425</td>\n",
       "      <td>0.477389</td>\n",
       "      <td>0.268186</td>\n",
       "    </tr>\n",
       "    <tr>\n",
       "      <th>20</th>\n",
       "      <td>LKAB , headquartered in Lulea , Sweden , is a high-tech mining company producing upgraded iron ore products for the steel industry .</td>\n",
       "      <td>0.071675</td>\n",
       "      <td>0.012607</td>\n",
       "      <td>0.915718</td>\n",
       "    </tr>\n",
       "    <tr>\n",
       "      <th>21</th>\n",
       "      <td>Operating profit totalled EUR 5.8 mn , up from a loss of EUR 1.7 mn in the fourth quarter of 2009 .</td>\n",
       "      <td>0.955699</td>\n",
       "      <td>0.023856</td>\n",
       "      <td>0.020445</td>\n",
       "    </tr>\n",
       "    <tr>\n",
       "      <th>22</th>\n",
       "      <td>Thus the method will cut working costs , and will fasten the planning and building processes .</td>\n",
       "      <td>0.811361</td>\n",
       "      <td>0.016955</td>\n",
       "      <td>0.171683</td>\n",
       "    </tr>\n",
       "    <tr>\n",
       "      <th>23</th>\n",
       "      <td>Janis Arbidans , CEO of YIT Celtnieciba , said the company was focusing on housing and real estate development market .</td>\n",
       "      <td>0.058547</td>\n",
       "      <td>0.011840</td>\n",
       "      <td>0.929613</td>\n",
       "    </tr>\n",
       "    <tr>\n",
       "      <th>24</th>\n",
       "      <td>Indigo and Somoncom serve 377,000 subscribers and had a market share of approximately 27 % as of May 2007 .</td>\n",
       "      <td>0.078732</td>\n",
       "      <td>0.010175</td>\n",
       "      <td>0.911093</td>\n",
       "    </tr>\n",
       "    <tr>\n",
       "      <th>25</th>\n",
       "      <td>Stora is due to release its fourth-quarter and 2009 full-year earnings on Feb. 4 .</td>\n",
       "      <td>0.025728</td>\n",
       "      <td>0.032728</td>\n",
       "      <td>0.941544</td>\n",
       "    </tr>\n",
       "    <tr>\n",
       "      <th>26</th>\n",
       "      <td>Rautaruukki said construction group YIT has awarded it a 2.5 mln eur contract to supply the steel structures for a new bridge spanning the Kemijoki river in Northern Finland .</td>\n",
       "      <td>0.946457</td>\n",
       "      <td>0.016916</td>\n",
       "      <td>0.036627</td>\n",
       "    </tr>\n",
       "    <tr>\n",
       "      <th>27</th>\n",
       "      <td>Operating profit of Kauppalehti group rose to EUR 1.5 mn from EUR 1.3 mn , and that of Marketplaces to EUR 1.3 mn from EUR 1.0 mn in the third quarter of 2006 .</td>\n",
       "      <td>0.950566</td>\n",
       "      <td>0.027901</td>\n",
       "      <td>0.021532</td>\n",
       "    </tr>\n",
       "    <tr>\n",
       "      <th>28</th>\n",
       "      <td>Ms Laakso will be responsible for HKScan 's HR functions and for their development in all of the Group ` smarket areas .</td>\n",
       "      <td>0.097892</td>\n",
       "      <td>0.008277</td>\n",
       "      <td>0.893830</td>\n",
       "    </tr>\n",
       "    <tr>\n",
       "      <th>29</th>\n",
       "      <td>Metso expects its net sales to increase by about 10 % in 2008 , at comparable exchange rates .</td>\n",
       "      <td>0.951061</td>\n",
       "      <td>0.015048</td>\n",
       "      <td>0.033891</td>\n",
       "    </tr>\n",
       "  </tbody>\n",
       "</table>\n",
       "</div>"
      ],
      "text/plain": [
       "                                                                                                                                                                                                                                                        Article  \\\n",
       "0                                                                                                             Sales in Finland decreased by 2.0 % , and international sales decreased by 9.3 % in terms of euros , and by 15.1 % in terms of local currencies .   \n",
       "1                                                                                                                                                                                                     The transaction is expected to be finalized by Dec 2009 .   \n",
       "2                                                                                                                                   Market share decreased on the route between Helsinki in Finland and Tallinn in Estonia by 0.1 percentage points to 24.8 % .   \n",
       "3                                                                                                                                                                                                                                    Registration is required .   \n",
       "4                                                                                                                                                             The share subscription period for stock options 2007A is between 1 April 2010 and 31 March 2012 .   \n",
       "5                                                                                    Net profit in the three months through March 31 fell to (  x20ac ) 103 million ( US$ 165 million ) from (  x20ac ) 131 million a year earlier , the Finnish company said .   \n",
       "6                                                       Following the demerger , the vice president of the group 's pharmaceutical trade in Finland , Jukka Niemi , will be appointed managing director of Oriola in addition to his current responsibilities .   \n",
       "7                                                                                                         Increase in the number of shares is based on the option rights which were granted to the management of the company under the stock option plan 2006 .   \n",
       "8                                                                                                                            Biohit already services many current Genesis customers and the customer base is expected to expand as a result of this agreement .   \n",
       "9                                                                                                                                                                                                          The estimated value of the deal is USD 9.2 million .   \n",
       "10                                                                                                                                                                                                                  No service pricing details were disclosed .   \n",
       "11  The world 's second largest stainless steel maker said net profit in the three-month period until Dec. 31 surged to euro603 million US$ 781 million , or euro3 .33 US$ 4.31 per share , from euro172 million , or euro0 .94 per share , the previous year .   \n",
       "12                                                                                                                                      The energy sector accounted for approximately 33 % and the steel industry for about 57 % of the transportation volume .   \n",
       "13                                                                                                                                                                                             The contract value amounts to about EUR11m , the company added .   \n",
       "14                                                                                                                                                                                   BM4 middle layer headbox will be equipped with a dilution control system .   \n",
       "15                                                              CapMan Plc Press Release 31 March 2008 Jukka Ruuska , President of the OMX Nordic Exchanges and the Stockholm Stock Exchange , will transfer to CapMan effective no later than September 2008 .   \n",
       "16                                                      These sections will be put into place to form the load-bearing steel structure of the bridge , '' says Sami Eronen , Senior Vice President , Infrastructure and Northern Europe , Ruukki Construction .   \n",
       "17                                                                                                                                                                              This includes a EUR 39.5 mn change in the fair value of investment properties .   \n",
       "18                                                                                                                                                              Operating profit , excluding non-recurring items , totalled EUR 1.0 mn , down from EUR 1.6 mn .   \n",
       "19                                                                                                                                     Operating profit of operations in Finland in the period under review totaled EUR 11.3 mn , remaining at the 2005 level .   \n",
       "20                                                                                                                         LKAB , headquartered in Lulea , Sweden , is a high-tech mining company producing upgraded iron ore products for the steel industry .   \n",
       "21                                                                                                                                                          Operating profit totalled EUR 5.8 mn , up from a loss of EUR 1.7 mn in the fourth quarter of 2009 .   \n",
       "22                                                                                                                                                               Thus the method will cut working costs , and will fasten the planning and building processes .   \n",
       "23                                                                                                                                      Janis Arbidans , CEO of YIT Celtnieciba , said the company was focusing on housing and real estate development market .   \n",
       "24                                                                                                                                                  Indigo and Somoncom serve 377,000 subscribers and had a market share of approximately 27 % as of May 2007 .   \n",
       "25                                                                                                                                                                           Stora is due to release its fourth-quarter and 2009 full-year earnings on Feb. 4 .   \n",
       "26                                                                              Rautaruukki said construction group YIT has awarded it a 2.5 mln eur contract to supply the steel structures for a new bridge spanning the Kemijoki river in Northern Finland .   \n",
       "27                                                                                             Operating profit of Kauppalehti group rose to EUR 1.5 mn from EUR 1.3 mn , and that of Marketplaces to EUR 1.3 mn from EUR 1.0 mn in the third quarter of 2006 .   \n",
       "28                                                                                                                                     Ms Laakso will be responsible for HKScan 's HR functions and for their development in all of the Group ` smarket areas .   \n",
       "29                                                                                                                                                               Metso expects its net sales to increase by about 10 % in 2008 , at comparable exchange rates .   \n",
       "\n",
       "    Positive  Negative   Neutral  \n",
       "0   0.008455  0.973128  0.018417  \n",
       "1   0.060103  0.011628  0.928269  \n",
       "2   0.007879  0.974372  0.017749  \n",
       "3   0.020011  0.039514  0.940474  \n",
       "4   0.016447  0.037957  0.945596  \n",
       "5   0.006742  0.976132  0.017126  \n",
       "6   0.026874  0.023767  0.949360  \n",
       "7   0.081323  0.008957  0.909720  \n",
       "8   0.932396  0.010092  0.057512  \n",
       "9   0.042460  0.012872  0.944668  \n",
       "10  0.021922  0.035281  0.942797  \n",
       "11  0.947916  0.031006  0.021078  \n",
       "12  0.028594  0.024188  0.947218  \n",
       "13  0.062777  0.014969  0.922254  \n",
       "14  0.162323  0.007967  0.829710  \n",
       "15  0.020517  0.035369  0.944114  \n",
       "16  0.131751  0.010093  0.858156  \n",
       "17  0.223051  0.028594  0.748354  \n",
       "18  0.008600  0.976747  0.014653  \n",
       "19  0.254425  0.477389  0.268186  \n",
       "20  0.071675  0.012607  0.915718  \n",
       "21  0.955699  0.023856  0.020445  \n",
       "22  0.811361  0.016955  0.171683  \n",
       "23  0.058547  0.011840  0.929613  \n",
       "24  0.078732  0.010175  0.911093  \n",
       "25  0.025728  0.032728  0.941544  \n",
       "26  0.946457  0.016916  0.036627  \n",
       "27  0.950566  0.027901  0.021532  \n",
       "28  0.097892  0.008277  0.893830  \n",
       "29  0.951061  0.015048  0.033891  "
      ]
     },
     "metadata": {},
     "output_type": "display_data"
    }
   ],
   "source": [
    "# Formatting results as pandas dataframe\n",
    "\n",
    "# Headline sentiment\n",
    "positive = predictions[:, 0].tolist()\n",
    "negative = predictions[:, 1].tolist()\n",
    "neutral = predictions[:, 2].tolist()\n",
    "\n",
    "table = {'Article':test,\n",
    "        'Positive':positive,\n",
    "        'Negative':negative,\n",
    "        'Neutral':neutral}\n",
    "\n",
    "df = pd.DataFrame(table, columns=['Article', 'Positive', 'Negative', 'Neutral'])\n",
    "\n",
    "display(df)"
   ]
  }
 ],
 "metadata": {
  "kernelspec": {
   "display_name": "Python 3 (ipykernel)",
   "language": "python",
   "name": "python3"
  },
  "language_info": {
   "codemirror_mode": {
    "name": "ipython",
    "version": 3
   },
   "file_extension": ".py",
   "mimetype": "text/x-python",
   "name": "python",
   "nbconvert_exporter": "python",
   "pygments_lexer": "ipython3",
   "version": "3.9.13"
  }
 },
 "nbformat": 4,
 "nbformat_minor": 5
}
